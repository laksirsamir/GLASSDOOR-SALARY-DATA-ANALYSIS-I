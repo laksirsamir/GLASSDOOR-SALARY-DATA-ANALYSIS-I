{
 "cells": [
  {
   "cell_type": "code",
   "execution_count": 3,
   "id": "613301ca-021c-41ae-b327-f3e683516545",
   "metadata": {},
   "outputs": [
    {
     "name": "stdout",
     "output_type": "stream",
     "text": [
      "   index          Job Title               Salary Estimate  \\\n",
      "0      0  Sr Data Scientist  $137K-$171K (Glassdoor est.)   \n",
      "1      1     Data Scientist  $137K-$171K (Glassdoor est.)   \n",
      "2      2     Data Scientist  $137K-$171K (Glassdoor est.)   \n",
      "3      3     Data Scientist  $137K-$171K (Glassdoor est.)   \n",
      "4      4     Data Scientist  $137K-$171K (Glassdoor est.)   \n",
      "\n",
      "                                     Job Description  Rating  \\\n",
      "0  Description\\n\\nThe Senior Data Scientist is re...     3.1   \n",
      "1  Secure our Nation, Ignite your Future\\n\\nJoin ...     4.2   \n",
      "2  Overview\\n\\n\\nAnalysis Group is one of the lar...     3.8   \n",
      "3  JOB DESCRIPTION:\\n\\nDo you have a passion for ...     3.5   \n",
      "4  Data Scientist\\nAffinity Solutions / Marketing...     2.9   \n",
      "\n",
      "              Company Name       Location            Headquarters  \\\n",
      "0         Healthfirst\\n3.1   New York, NY            New York, NY   \n",
      "1             ManTech\\n4.2  Chantilly, VA             Herndon, VA   \n",
      "2      Analysis Group\\n3.8     Boston, MA              Boston, MA   \n",
      "3             INFICON\\n3.5     Newton, MA  Bad Ragaz, Switzerland   \n",
      "4  Affinity Solutions\\n2.9   New York, NY            New York, NY   \n",
      "\n",
      "                      Size  Founded        Type of ownership  \\\n",
      "0   1001 to 5000 employees     1993   Nonprofit Organization   \n",
      "1  5001 to 10000 employees     1968         Company - Public   \n",
      "2   1001 to 5000 employees     1981  Private Practice / Firm   \n",
      "3    501 to 1000 employees     2000         Company - Public   \n",
      "4      51 to 200 employees     1998        Company - Private   \n",
      "\n",
      "                                Industry             Sector  \\\n",
      "0                     Insurance Carriers          Insurance   \n",
      "1                 Research & Development  Business Services   \n",
      "2                             Consulting  Business Services   \n",
      "3  Electrical & Electronic Manufacturing      Manufacturing   \n",
      "4                Advertising & Marketing  Business Services   \n",
      "\n",
      "                      Revenue  \\\n",
      "0    Unknown / Non-Applicable   \n",
      "1      $1 to $2 billion (USD)   \n",
      "2  $100 to $500 million (USD)   \n",
      "3  $100 to $500 million (USD)   \n",
      "4    Unknown / Non-Applicable   \n",
      "\n",
      "                                         Competitors  \n",
      "0            EmblemHealth, UnitedHealth Group, Aetna  \n",
      "1                                                 -1  \n",
      "2                                                 -1  \n",
      "3  MKS Instruments, Pfeiffer Vacuum, Agilent Tech...  \n",
      "4               Commerce Signals, Cardlytics, Yodlee  \n",
      "<class 'pandas.core.frame.DataFrame'>\n",
      "RangeIndex: 672 entries, 0 to 671\n",
      "Data columns (total 15 columns):\n",
      " #   Column             Non-Null Count  Dtype  \n",
      "---  ------             --------------  -----  \n",
      " 0   index              672 non-null    int64  \n",
      " 1   Job Title          672 non-null    object \n",
      " 2   Salary Estimate    672 non-null    object \n",
      " 3   Job Description    672 non-null    object \n",
      " 4   Rating             672 non-null    float64\n",
      " 5   Company Name       672 non-null    object \n",
      " 6   Location           672 non-null    object \n",
      " 7   Headquarters       672 non-null    object \n",
      " 8   Size               672 non-null    object \n",
      " 9   Founded            672 non-null    int64  \n",
      " 10  Type of ownership  672 non-null    object \n",
      " 11  Industry           672 non-null    object \n",
      " 12  Sector             672 non-null    object \n",
      " 13  Revenue            672 non-null    object \n",
      " 14  Competitors        672 non-null    object \n",
      "dtypes: float64(1), int64(2), object(12)\n",
      "memory usage: 78.9+ KB\n",
      "None\n",
      "            index      Rating      Founded\n",
      "count  672.000000  672.000000   672.000000\n",
      "mean   335.500000    3.518601  1635.529762\n",
      "std    194.133974    1.410329   756.746640\n",
      "min      0.000000   -1.000000    -1.000000\n",
      "25%    167.750000    3.300000  1917.750000\n",
      "50%    335.500000    3.800000  1995.000000\n",
      "75%    503.250000    4.300000  2009.000000\n",
      "max    671.000000    5.000000  2019.000000\n",
      "index                0\n",
      "Job Title            0\n",
      "Salary Estimate      0\n",
      "Job Description      0\n",
      "Rating               0\n",
      "Company Name         0\n",
      "Location             0\n",
      "Headquarters         0\n",
      "Size                 0\n",
      "Founded              0\n",
      "Type of ownership    0\n",
      "Industry             0\n",
      "Sector               0\n",
      "Revenue              0\n",
      "Competitors          0\n",
      "dtype: int64\n"
     ]
    }
   ],
   "source": [
    "import pandas as pd\n",
    "\n",
    "# Load the dataset\n",
    "data = pd.read_csv('./Uncleaned_DS_jobs/Uncleaned_DS_jobs.csv')\n",
    "\n",
    "# Explore the data\n",
    "print(data.head())\n",
    "print(data.info())\n",
    "print(data.describe())\n",
    "print(data.isnull().sum())\n"
   ]
  },
  {
   "cell_type": "code",
   "execution_count": 4,
   "id": "8f353b7a-30f5-4ca2-bc9e-d6758c9c1f18",
   "metadata": {},
   "outputs": [],
   "source": [
    "#Extract Salary Information"
   ]
  },
  {
   "cell_type": "code",
   "execution_count": 5,
   "id": "54472fc0-2f44-4284-9614-4bbf0fc54804",
   "metadata": {},
   "outputs": [
    {
     "name": "stdout",
     "output_type": "stream",
     "text": [
      "['$137K-$171K (Glassdoor est.)' '$75K-$131K (Glassdoor est.)'\n",
      " '$79K-$131K (Glassdoor est.)' '$99K-$132K (Glassdoor est.)'\n",
      " '$90K-$109K (Glassdoor est.)' '$101K-$165K (Glassdoor est.)'\n",
      " '$56K-$97K (Glassdoor est.)' '$79K-$106K (Glassdoor est.)'\n",
      " '$71K-$123K (Glassdoor est.)' '$90K-$124K (Glassdoor est.)'\n",
      " '$91K-$150K (Glassdoor est.)' '$141K-$225K (Glassdoor est.)'\n",
      " '$145K-$225K(Employer est.)' '$79K-$147K (Glassdoor est.)'\n",
      " '$122K-$146K (Glassdoor est.)' '$112K-$116K (Glassdoor est.)'\n",
      " '$110K-$163K (Glassdoor est.)' '$124K-$198K (Glassdoor est.)'\n",
      " '$79K-$133K (Glassdoor est.)' '$69K-$116K (Glassdoor est.)'\n",
      " '$31K-$56K (Glassdoor est.)' '$95K-$119K (Glassdoor est.)'\n",
      " '$212K-$331K (Glassdoor est.)' '$66K-$112K (Glassdoor est.)'\n",
      " '$128K-$201K (Glassdoor est.)' '$138K-$158K (Glassdoor est.)'\n",
      " '$80K-$132K (Glassdoor est.)' '$87K-$141K (Glassdoor est.)'\n",
      " '$92K-$155K (Glassdoor est.)' '$105K-$167K (Glassdoor est.)']\n"
     ]
    }
   ],
   "source": [
    "# Check the unique values in 'Salary Estimate'\n",
    "print(data['Salary Estimate'].unique())\n",
    "\n",
    "# Extracting numerical salary from 'Salary Estimate'\n",
    "data = data[data['Salary Estimate'] != '-1']  # Remove rows with '-1' as salary estimate\n",
    "data['Min Salary'] = data['Salary Estimate'].apply(lambda x: int(x.split('-')[0].replace('K','').replace('$','').replace(' ','')))\n",
    "data['Max Salary'] = data['Salary Estimate'].apply(lambda x: int(x.split('-')[1].split('(')[0].replace('K','').replace('$','').replace(' ','')))\n",
    "data['Avg Salary'] = (data['Min Salary'] + data['Max Salary']) / 2\n",
    "\n",
    "# Drop the original 'Salary Estimate' column\n",
    "data = data.drop(['Salary Estimate'], axis=1)\n",
    "\n"
   ]
  },
  {
   "cell_type": "code",
   "execution_count": 6,
   "id": "4b7465f5-3571-4a78-8ccc-dee008ec3f39",
   "metadata": {},
   "outputs": [],
   "source": [
    "# Encode Categorical Variables"
   ]
  },
  {
   "cell_type": "code",
   "execution_count": 7,
   "id": "b3d279af-ea58-419d-9416-6c9968e602fe",
   "metadata": {},
   "outputs": [
    {
     "name": "stdout",
     "output_type": "stream",
     "text": [
      "   index  Job Title  Job Description  Rating  Company Name  Location  \\\n",
      "0      0        155              142      12           175       119   \n",
      "1      1         49              392      23           236        35   \n",
      "2      2         49              319      19            31        19   \n",
      "3      3         49              193      16           186       120   \n",
      "4      4         49              125      10            18       119   \n",
      "\n",
      "   Headquarters  Size  Founded  Type of ownership  Industry  Sector  Revenue  \\\n",
      "0           142     3       76                  7        31      13       13   \n",
      "1            89     5       54                  3        43       5        0   \n",
      "2            28     3       65                  9        12       5        4   \n",
      "3            15     6       83                  3        16      14        4   \n",
      "4           142     7       81                  2         2       5       13   \n",
      "\n",
      "   Competitors  Min Salary  Max Salary  Avg Salary  \n",
      "0           41         137         171       154.0  \n",
      "1            0         137         171       154.0  \n",
      "2            0         137         171       154.0  \n",
      "3           72         137         171       154.0  \n",
      "4           32         137         171       154.0  \n"
     ]
    }
   ],
   "source": [
    "from sklearn.preprocessing import LabelEncoder\n",
    "\n",
    "# Encode categorical variables\n",
    "le = LabelEncoder()\n",
    "categorical_cols = ['Job Title', 'Job Description', 'Rating', 'Company Name', 'Location', 'Headquarters', 'Size', \n",
    "                    'Founded', 'Type of ownership', 'Industry', 'Sector', 'Revenue', 'Competitors']\n",
    "\n",
    "for col in categorical_cols:\n",
    "    data[col] = le.fit_transform(data[col].astype(str))\n",
    "\n",
    "# Check the resulting data\n",
    "print(data.head())\n"
   ]
  },
  {
   "cell_type": "code",
   "execution_count": 8,
   "id": "6caae69d-c0e2-4908-b0ef-fea626565b04",
   "metadata": {},
   "outputs": [],
   "source": [
    "#Proceed with Feature Engineering, Modeling, and Evaluation"
   ]
  },
  {
   "cell_type": "code",
   "execution_count": 9,
   "id": "eaa19c9c-c476-4637-8632-81cdd8c46851",
   "metadata": {},
   "outputs": [
    {
     "name": "stdout",
     "output_type": "stream",
     "text": [
      "Mean Squared Error: 8.047943334056738e-28\n",
      "R^2 Score: 1.0\n"
     ]
    },
    {
     "data": {
      "image/png": "[encoded data removed]",
      "text/plain": [
       "<Figure size 1000x600 with 1 Axes>"
      ]
     },
     "metadata": {},
     "output_type": "display_data"
    }
   ],
   "source": [
    "from sklearn.model_selection import train_test_split\n",
    "from sklearn.preprocessing import StandardScaler\n",
    "from sklearn.linear_model import LinearRegression\n",
    "from sklearn.metrics import mean_squared_error, r2_score\n",
    "import matplotlib.pyplot as plt\n",
    "\n",
    "# Define features and target variable\n",
    "X = data.drop(['Avg Salary'], axis=1)\n",
    "y = data['Avg Salary']\n",
    "\n",
    "# Split the data into training and testing sets\n",
    "X_train, X_test, y_train, y_test = train_test_split(X, y, test_size=0.3, random_state=42)\n",
    "\n",
    "# Standardize the features\n",
    "scaler = StandardScaler()\n",
    "X_train_scaled = scaler.fit_transform(X_train)\n",
    "X_test_scaled = scaler.transform(X_test)\n",
    "\n",
    "# Train a Linear Regression model\n",
    "model = LinearRegression()\n",
    "model.fit(X_train_scaled, y_train)\n",
    "\n",
    "# Make predictions\n",
    "y_pred = model.predict(X_test_scaled)\n",
    "\n",
    "# Evaluate the model\n",
    "mse = mean_squared_error(y_test, y_pred)\n",
    "r2 = r2_score(y_test, y_pred)\n",
    "\n",
    "print(f'Mean Squared Error: {mse}')\n",
    "print(f'R^2 Score: {r2}')\n",
    "\n",
    "# Plotting actual vs predicted salaries\n",
    "plt.figure(figsize=(10, 6))\n",
    "plt.scatter(y_test, y_pred)\n",
    "plt.plot([min(y_test), max(y_test)], [min(y_test), max(y_test)], color='red', linewidth=2)\n",
    "plt.xlabel('Actual Salaries')\n",
    "plt.ylabel('Predicted Salaries')\n",
    "plt.title('Actual vs Predicted Salaries')\n",
    "plt.show()\n"
   ]
  },
  {
   "cell_type": "code",
   "execution_count": null,
   "id": "d01eb4b7-69c5-4ce6-b8ad-230b2e16bc78",
   "metadata": {},
   "outputs": [],
   "source": []
  }
 ],
 "metadata": {
  "kernelspec": {
   "display_name": "Python 3 (ipykernel)",
   "language": "python",
   "name": "python3"
  },
  "language_info": {
   "codemirror_mode": {
    "name": "ipython",
    "version": 3
   },
   "file_extension": ".py",
   "mimetype": "text/x-python",
   "name": "python",
   "nbconvert_exporter": "python",
   "pygments_lexer": "ipython3",
   "version": "3.12.3"
  }
 },
 "nbformat": 4,
 "nbformat_minor": 5
}
